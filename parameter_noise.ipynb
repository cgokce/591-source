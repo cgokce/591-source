{
 "cells": [
  {
   "cell_type": "code",
   "execution_count": 25,
   "metadata": {},
   "outputs": [
    {
     "name": "stdout",
     "output_type": "stream",
     "text": [
      "Train Set Size: 60000   Validation Ratio: %20.0   Test Set Size: 10000\n"
     ]
    }
   ],
   "source": [
    "#LOAD AND SPLIT DATA\n",
    "# mnist basic setting: https://github.com/pytorch/examples/blob/master/mnist/main.py\n",
    "from __future__ import print_function\n",
    "import argparse\n",
    "import torch\n",
    "import torch.nn as nn\n",
    "import torch.nn.functional as F\n",
    "import torch.optim as optim\n",
    "from torchvision import datasets, transforms\n",
    "from torch.autograd import Variable\n",
    "import numpy as np\n",
    "from torch.utils.data.sampler import SubsetRandomSampler\n",
    "\n",
    "# Training Settings\n",
    "batch_size = 64\n",
    "\n",
    "valid_size = 0.2 #Validation set size, eg 0.1 is %10\n",
    "random_seed = 5 #Rand seed for reproduction\n",
    "\n",
    "\n",
    "train_dataset = datasets.MNIST(root='./data/',\n",
    "                               train=True,\n",
    "                               transform=transforms.ToTensor(),\n",
    "                               download=True)\n",
    "\n",
    "test_dataset = datasets.MNIST(root='./data/',\n",
    "                              train=False,\n",
    "                              transform=transforms.ToTensor())\n",
    "\n",
    "\n",
    "#Validation Set Split\n",
    "#ref https://gist.github.com/kevinzakka/d33bf8d6c7f06a9d8c76d97a7879f5cb\n",
    "num_train = len(train_dataset)\n",
    "indices = list(range(num_train))\n",
    "split = int(np.floor(valid_size * num_train))\n",
    "\n",
    "#rand shuffle:\n",
    "np.random.seed(random_seed)\n",
    "np.random.shuffle(indices)\n",
    "\n",
    "#Define samplers for train val sets\n",
    "train_idx, valid_idx = indices[split:], indices[:split]\n",
    "train_sampler = SubsetRandomSampler(train_idx)\n",
    "valid_sampler = SubsetRandomSampler(valid_idx)\n",
    "\n",
    "\n",
    "# Train/Val/Test Data Loaders\n",
    "train_loader = torch.utils.data.DataLoader(dataset=train_dataset,\n",
    "                                           batch_size=batch_size,\n",
    "                                           sampler = train_sampler)\n",
    "\n",
    "valid_loader = torch.utils.data.DataLoader(dataset=train_dataset,\n",
    "                                           batch_size=batch_size,\n",
    "                                           sampler = valid_sampler)\n",
    "\n",
    "test_loader = torch.utils.data.DataLoader(dataset=test_dataset,\n",
    "                                          batch_size=batch_size,\n",
    "                                          shuffle=False)\n",
    "\n",
    "print(\"Train Set Size: \" + str(len(train_loader.dataset)) + \"   Validation Ratio: %\"  + str(valid_size*100) + \"   Test Set Size: \" +str(len(test_loader.dataset)) )    "
   ]
  },
  {
   "cell_type": "code",
   "execution_count": 35,
   "metadata": {},
   "outputs": [],
   "source": [
    "\n",
    "noiseBranchCount = 1000     #Branch count for noisy network\n",
    "\n",
    "test_run = 0            #Train/Test time \n",
    "\n",
    "startFilterCount = 8     #Network width\n",
    "\n",
    "scale = 0.0001\n",
    "    \n",
    "class Net(nn.Module):\n",
    "\n",
    "    def __init__(self):\n",
    "        super(Net, self).__init__()\n",
    "        #INITIAL [5x5 MP]\n",
    "        self.conv1 = nn.Conv2d(1, startFilterCount, kernel_size=5)\n",
    "        \n",
    "        # Block1 [3x3 3x3 MP]\n",
    "        self.conv2 = nn.Conv2d(startFilterCount, startFilterCount*2, kernel_size=3, padding=1)\n",
    "        self.conv3 = nn.Conv2d(startFilterCount*2, startFilterCount*2, kernel_size=3, padding=1)\n",
    "        \n",
    "        # Block2 [3x3 3x3 MP]\n",
    "        self.conv4 = nn.Conv2d(startFilterCount*2, startFilterCount*4, kernel_size=3, padding=1)\n",
    "        self.conv5 = nn.Conv2d(startFilterCount*4, startFilterCount*4, kernel_size=3, padding=1)\n",
    "        \n",
    "        self.gauss = nn.Conv2d(startFilterCount*4, startFilterCount*4, kernel_size=3, padding=1)\n",
    "        \n",
    "        self.mp = nn.MaxPool2d(2)\n",
    "        self.fc = nn.Linear(288, 10)\n",
    "        \n",
    "        #Initalize random generator\n",
    "        #Generator gives error, investigate later\n",
    "        #self.gen = torch.Generator()\n",
    "        #torch.manualSeed(gen, 5)\n",
    "        \n",
    "\n",
    "    def forward(self, x):\n",
    "        in_size = x.size(0)\n",
    "        #Initial conv mp\n",
    "        x = F.relu(self.mp(self.conv1(x)))\n",
    "        #Block1 - conv relu conv relu mp\n",
    "        x = F.relu(self.conv2(x))\n",
    "        x = F.relu(self.mp(self.conv3(x)))\n",
    "        #Block2 - conv relu conv relu mp\n",
    "        x = F.relu(self.conv4(x))\n",
    "        x = self.conv5(x)\n",
    "        \n",
    "        #last_weights = self.conv5.weights\n",
    "        #print(last_weights)\n",
    "        \n",
    "        #TEST ROUTINE\n",
    "        if not self.training:\n",
    "            \n",
    "            #32 32 ----> number of filters -- 3x3 kernel size \n",
    "            #w = self.conv5.parameters()\n",
    "            #b = self.conv5.bias\n",
    "            \n",
    "            #display(w)\n",
    "            #w2 = list(w)\n",
    "            #display(we.data.cpu().numpy().size)\n",
    "            #print(we.data.size())\n",
    "            \n",
    "            #Weights are extracted from conv5\n",
    "            we = self.conv5\n",
    "            \n",
    "            #Kernel Sampling\n",
    "            #normal_(mean=0, std=1, *, generator=None)\n",
    "            #self.gauss.weight.data.normal_(mean=0, std=1)\n",
    "            #self.gauss.bias.data.normal_(mean=0, std=1)\n",
    "            #we.weight.data:add(self.gauss.weight.data)\n",
    "            #we.bias.data:add(self.gauss.bias.data)\n",
    "            \n",
    "            #OTF Sampling\n",
    "            #Weight\n",
    "            sc = torch.FloatTensor([scale])\n",
    "            rand_w = torch.rand(32, 32, 3, 3)\n",
    "            rand_w = torch.mul(rand_w,sc)\n",
    "            we.weight.data:add(rand_w.data)\n",
    "            #Bias\n",
    "            rand_b = torch.rand(32)\n",
    "            rand_w = torch.mul(rand_b,sc)\n",
    "            we.bias.data:add(rand_b.data)\n",
    "            \n",
    "            #\n",
    "            \n",
    "            #b = torch.from_numpy(a)\n",
    "            #addNoise(we.data)\n",
    "            \n",
    "            #Merge classifier results\n",
    "            x = F.relu(self.mp(x))        \n",
    "            x = x.view(in_size, -1)  # flatten the tensor\n",
    "            x = self.fc(x)\n",
    "            x =  F.log_softmax(x)\n",
    "            \n",
    "            \n",
    "            \n",
    "        else:    \n",
    "            \n",
    "            x = F.relu(self.mp(x))\n",
    "        \n",
    "            #FC\n",
    "            x = x.view(in_size, -1)  # flatten the tensor\n",
    "            #print(x.size(1))    # FC feature size \n",
    "            x = self.fc(x)\n",
    "        \n",
    "            x =  F.log_softmax(x)\n",
    "        return x\n",
    "    def addNoise(self,c_weights):\n",
    "        mu, sigma = 0, 0.1 # mean and standard deviation\n",
    "        s = np.random.normal(mu, sigma, 1000)\n",
    "\n",
    "\n",
    "model = Net()\n",
    "model = model.cuda()\n",
    "#torch.save(net.module.cpu().state_dict(), save_path)\n",
    "\n",
    "optimizer = optim.SGD(model.parameters(), lr=0.01, momentum=0.5)\n",
    "        "
   ]
  },
  {
   "cell_type": "code",
   "execution_count": 36,
   "metadata": {},
   "outputs": [
    {
     "name": "stderr",
     "output_type": "stream",
     "text": [
      "/home/john/anaconda3/lib/python3.6/site-packages/ipykernel_launcher.py:92: UserWarning: Implicit dimension choice for log_softmax has been deprecated. Change the call to include dim=X as an argument.\n"
     ]
    },
    {
     "name": "stdout",
     "output_type": "stream",
     "text": [
      "\n",
      "Test set: Average loss: 2.3030, Accuracy: 958/10000 (9.58%)\n",
      "\n"
     ]
    }
   ],
   "source": [
    "test_run = 1\n",
    "test()"
   ]
  },
  {
   "cell_type": "code",
   "execution_count": 37,
   "metadata": {},
   "outputs": [
    {
     "name": "stderr",
     "output_type": "stream",
     "text": [
      "/home/john/anaconda3/lib/python3.6/site-packages/ipykernel_launcher.py:105: UserWarning: Implicit dimension choice for log_softmax has been deprecated. Change the call to include dim=X as an argument.\n"
     ]
    },
    {
     "name": "stdout",
     "output_type": "stream",
     "text": [
      "Epoch: 1\n"
     ]
    },
    {
     "name": "stderr",
     "output_type": "stream",
     "text": [
      "/home/john/anaconda3/lib/python3.6/site-packages/ipykernel_launcher.py:92: UserWarning: Implicit dimension choice for log_softmax has been deprecated. Change the call to include dim=X as an argument.\n"
     ]
    },
    {
     "name": "stdout",
     "output_type": "stream",
     "text": [
      "\n",
      "Validation set: Average loss: 2.2706, Accuracy: 3599/12000 (29.99%)\n",
      "\n",
      "Epoch: 2\n",
      "\n",
      "Validation set: Average loss: 0.2083, Accuracy: 11243/12000 (93.69%)\n",
      "\n",
      "Epoch: 3\n",
      "\n",
      "Validation set: Average loss: 0.1528, Accuracy: 11425/12000 (95.21%)\n",
      "\n"
     ]
    }
   ],
   "source": [
    "train_list = []\n",
    "val_list = []\n",
    "test_list = [] \n",
    "test_accur_list = []\n",
    "epoch_list = []\n",
    "final_test_loss = 0\n",
    "\n",
    "def train(epoch):\n",
    "    model.train()\n",
    "    for batch_idx, (data, target) in enumerate(train_loader):\n",
    "        data, target = Variable(data), Variable(target)\n",
    "        #GPU\n",
    "        data = data.cuda()\n",
    "        target = target.cuda()\n",
    "        optimizer.zero_grad()\n",
    "        output = model(data)\n",
    "        loss = F.nll_loss(output, target)\n",
    "        loss.backward()\n",
    "        optimizer.step()\n",
    "        #if batch_idx % 10 == 0:\n",
    "        #    print('Train Epoch: {} [{}/{} ({:.0f}%)]\\tLoss: {:.6f}'.format(\n",
    "        #        epoch, batch_idx * len(data), len(train_loader.dataset),\n",
    "        #        100. * batch_idx / len(train_loader), loss.data[0]))\n",
    "        if batch_idx == len(train_loader) - 1:\n",
    "            train_list.append(loss.data[0])\n",
    "            \n",
    "def validate():\n",
    "    model.eval()\n",
    "    test_loss = 0\n",
    "    correct = 0\n",
    "    for data, target in valid_loader:\n",
    "        data, target = Variable(data, volatile=True), Variable(target)\n",
    "        #GPU\n",
    "        data = data.cuda()\n",
    "        target = target.cuda()\n",
    "        output = model(data)\n",
    "        # sum up batch loss\n",
    "        test_loss += F.nll_loss(output, target, size_average=False).data[0]\n",
    "        # get the index of the max log-probability\n",
    "        pred = output.data.max(1, keepdim=True)[1]\n",
    "        correct += pred.eq(target.data.view_as(pred)).cpu().sum()\n",
    "\n",
    "    test_loss /= len(valid_idx)\n",
    "    print('\\nValidation set: Average loss: {:.4f}, Accuracy: {}/{} ({:.2f}%)\\n'.format(\n",
    "        test_loss, correct, len(valid_idx),\n",
    "        100. * correct / len(valid_idx)))\n",
    "    val_list.append(test_loss)\n",
    "\n",
    "def test():\n",
    "    model.eval()\n",
    "    test_loss = 0\n",
    "    correct = 0\n",
    "    for data, target in test_loader:\n",
    "        data, target = Variable(data, volatile=True), Variable(target)\n",
    "        #GPU\n",
    "        data = data.cuda()\n",
    "        target = target.cuda()\n",
    "        output = model(data)\n",
    "        # sum up batch loss\n",
    "        test_loss += F.nll_loss(output, target, size_average=False).data[0]\n",
    "        # get the index of the max log-probability\n",
    "        pred = output.data.max(1, keepdim=True)[1]\n",
    "        correct += pred.eq(target.data.view_as(pred)).cpu().sum()\n",
    "\n",
    "    test_loss /= len(test_loader.dataset)\n",
    "    print('\\nTest set: Average loss: {:.4f}, Accuracy: {}/{} ({:.2f}%)\\n'.format(\n",
    "        test_loss, correct, len(test_loader.dataset),\n",
    "        100. * correct / len(test_loader.dataset)))\n",
    "    test_list.append(test_loss)\n",
    "    test_accur = 100. * correct / len(test_loader.dataset)\n",
    "    test_accur_list.append(test_accur)\n",
    "    final_test_loss = test_loss\n",
    "\n",
    "\n",
    "totalEpoch = 3\n",
    "    \n",
    "for epoch in range(1, totalEpoch+1):\n",
    "    train(epoch)\n",
    "    print(\"Epoch: \" + str(epoch))\n",
    "    validate()\n",
    "    #test()\n"
   ]
  },
  {
   "cell_type": "code",
   "execution_count": 38,
   "metadata": {},
   "outputs": [
    {
     "data": {
      "image/png": "[encoded data removed]",
      "text/plain": [
       "<matplotlib.figure.Figure at 0x7f6159daad30>"
      ]
     },
     "metadata": {},
     "output_type": "display_data"
    }
   ],
   "source": [
    "%matplotlib inline\n",
    "#Plot train/test stuff \n",
    "epoch_list = list(range(1,totalEpoch+1))\n",
    "\n",
    "#Plotting\n",
    "import matplotlib.pyplot as plt\n",
    "import numpy as np    \n",
    "import matplotlib.lines as mlines\n",
    "\n",
    "plt.plot(epoch_list,train_list, 'r', epoch_list, val_list, 'b', totalEpoch, final_test_loss, 'r--')\n",
    "plt.ylabel('Loss')\n",
    "plt.xlabel('#Epochs')\n",
    "plt.grid(True)\n",
    "\n",
    "#Legends\n",
    "blue_line = mlines.Line2D([], [], color='blue',\n",
    "                          markersize=15, label='Validation Loss')\n",
    "red_line = mlines.Line2D([], [], color='red',\n",
    "                          markersize=15, label='Training Loss')\n",
    "plt.legend(handles=[red_line, blue_line])\n",
    "\n",
    "plt.show()    "
   ]
  },
  {
   "cell_type": "code",
   "execution_count": null,
   "metadata": {},
   "outputs": [],
   "source": [
    "#Get test results at min validation loss\n",
    "\n",
    "#Find index of min from list \n",
    "#ref https://stackoverflow.com/questions/13300962/python-find-index-of-minimum-item-in-list-of-floats\n",
    "minVal, minKey = min((minVal, minKey) for (minKey, minVal) in enumerate(val_list))\n",
    "\n",
    "print(\"Minimum Validation Loss is on Epoch: \" + str(minKey+1) + \" ( %\" +str(minVal) +\" )\" )\n",
    "print(\"Test Accuracy on Epoch \" + str(minKey+1) + \":  %\" + str(test_accur_list[minKey]))\n",
    "#Test loss test_list(minKey) \n"
   ]
  },
  {
   "cell_type": "code",
   "execution_count": 21,
   "metadata": {},
   "outputs": [
    {
     "name": "stderr",
     "output_type": "stream",
     "text": [
      "/home/john/anaconda3/lib/python3.6/site-packages/ipykernel_launcher.py:92: UserWarning: Implicit dimension choice for log_softmax has been deprecated. Change the call to include dim=X as an argument.\n"
     ]
    },
    {
     "name": "stdout",
     "output_type": "stream",
     "text": [
      "\n",
      "Test set: Average loss: 0.1126, Accuracy: 9658/10000 (96.58%)\n",
      "\n"
     ]
    }
   ],
   "source": [
    "#Test the model\n",
    "test()"
   ]
  },
  {
   "cell_type": "code",
   "execution_count": null,
   "metadata": {},
   "outputs": [],
   "source": []
  },
  {
   "cell_type": "code",
   "execution_count": null,
   "metadata": {},
   "outputs": [],
   "source": []
  }
 ],
 "metadata": {
  "kernelspec": {
   "display_name": "Python 3",
   "language": "python",
   "name": "python3"
  },
  "language_info": {
   "codemirror_mode": {
    "name": "ipython",
    "version": 3
   },
   "file_extension": ".py",
   "mimetype": "text/x-python",
   "name": "python",
   "nbconvert_exporter": "python",
   "pygments_lexer": "ipython3",
   "version": "3.6.4"
  }
 },
 "nbformat": 4,
 "nbformat_minor": 2
}
